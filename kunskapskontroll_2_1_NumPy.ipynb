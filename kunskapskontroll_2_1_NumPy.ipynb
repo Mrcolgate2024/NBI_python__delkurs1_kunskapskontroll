{
 "cells": [
  {
   "cell_type": "markdown",
   "id": "dacf74e6",
   "metadata": {},
   "source": [
    "# NumPy"
   ]
  },
  {
   "cell_type": "markdown",
   "id": "01b2bf34",
   "metadata": {},
   "source": [
    "Read the links: https://numpy.org/doc/stable/user/quickstart.html  and https://numpy.org/doc/stable/user/basics.broadcasting.html  before solving the exercises. "
   ]
  },
  {
   "cell_type": "code",
   "execution_count": 6,
   "id": "1f79e4a6",
   "metadata": {},
   "outputs": [],
   "source": [
    "import numpy as np"
   ]
  },
  {
   "cell_type": "markdown",
   "id": "7dae6889",
   "metadata": {},
   "source": [
    "### Print out the dimension (number of axes), shape, size and the datatype of the matrix A."
   ]
  },
  {
   "cell_type": "code",
   "execution_count": 15,
   "id": "7b3678cd",
   "metadata": {},
   "outputs": [],
   "source": [
    "A = np.arange(1, 16).reshape(3,5)"
   ]
  },
  {
   "cell_type": "code",
   "execution_count": 109,
   "id": "aa02484f-4e84-427d-9ce3-873432c665a8",
   "metadata": {},
   "outputs": [
    {
     "name": "stdout",
     "output_type": "stream",
     "text": [
      "[[ 1  2  3  4  5]\n",
      " [ 6  7  8  9 10]\n",
      " [11 12 13 14 15]]\n",
      "2\n",
      "(3, 5)\n",
      "15\n",
      "int32\n"
     ]
    }
   ],
   "source": [
    "print(A)\n",
    "print(A.ndim) #number of dimensions, row/column/depth\n",
    "print(A.shape) # number of rows and columns\n",
    "print(A.size) # number of elements\n",
    "print(A.dtype) # data type"
   ]
  },
  {
   "cell_type": "markdown",
   "id": "e56d2a96",
   "metadata": {},
   "source": [
    "### Do the following computations on the matrices B and C: \n",
    "* Elementwise subtraction. \n",
    "* Elementwise multiplication. \n",
    "* Matrix multiplication (by default you should use the @ operator)."
   ]
  },
  {
   "cell_type": "code",
   "execution_count": 232,
   "id": "a7053fbb",
   "metadata": {},
   "outputs": [
    {
     "name": "stdout",
     "output_type": "stream",
     "text": [
      "[[1 2 3]\n",
      " [4 5 6]\n",
      " [7 8 9]]\n",
      "\n",
      "[[2. 2. 2.]\n",
      " [2. 2. 2.]\n",
      " [2. 2. 2.]]\n"
     ]
    }
   ],
   "source": [
    "B = np.arange(1, 10).reshape(3, 3)\n",
    "C = np.ones((3, 3))*2\n",
    "\n",
    "print(B)\n",
    "print()\n",
    "print(C)"
   ]
  },
  {
   "cell_type": "code",
   "execution_count": 234,
   "id": "3cd794ae",
   "metadata": {},
   "outputs": [
    {
     "name": "stdout",
     "output_type": "stream",
     "text": [
      "[[-1.  0.  1.]\n",
      " [ 2.  3.  4.]\n",
      " [ 5.  6.  7.]]\n",
      "[[ 2.  4.  6.]\n",
      " [ 8. 10. 12.]\n",
      " [14. 16. 18.]]\n",
      "[[12. 12. 12.]\n",
      " [30. 30. 30.]\n",
      " [48. 48. 48.]]\n"
     ]
    }
   ],
   "source": [
    "subtraction = B - C\n",
    "# Elementwise subtraction.\n",
    "\n",
    "multiplication = B * C\n",
    "# Elementwise multiplication.\n",
    "\n",
    "matrix_multiplication = B @ C\n",
    "# Matrix multiplication - multiply elements from first row with first column and add them together\n",
    "\n",
    "print(subtraction)\n",
    "print(multiplication)\n",
    "print(matrix_multiplication)"
   ]
  },
  {
   "cell_type": "markdown",
   "id": "96030d53",
   "metadata": {},
   "source": [
    "### Do the following calculations on the matrix:\n",
    "* Exponentiate each number elementwise (use the np.exp function).\n",
    "\n",
    "* Calculate the minimum value in the whole matrix. \n",
    "* Calculcate the minimum value in each row. \n",
    "* Calculcate the minimum value in each column. \n",
    "\n",
    "\n",
    "* Find the index value for the minimum value in the whole matrix (hint: use np.argmin).\n",
    "* Find the index value for the minimum value in each row (hint: use np.argmin).\n",
    "\n",
    "\n",
    "* Calculate the sum for all elements.\n",
    "* Calculate the mean for each column. \n",
    "* Calculate the median for each column. "
   ]
  },
  {
   "cell_type": "code",
   "execution_count": 53,
   "id": "f8a9166b",
   "metadata": {},
   "outputs": [
    {
     "name": "stdout",
     "output_type": "stream",
     "text": [
      "[[1 2 3]\n",
      " [4 5 6]\n",
      " [7 8 9]]\n"
     ]
    }
   ],
   "source": [
    "B = np.arange(1, 10).reshape(3, 3)\n",
    "print(B)"
   ]
  },
  {
   "cell_type": "code",
   "execution_count": 107,
   "id": "542d936f-da87-43d5-b933-69415d9fc1f2",
   "metadata": {},
   "outputs": [
    {
     "name": "stdout",
     "output_type": "stream",
     "text": [
      "[[2.71828183e+00 7.38905610e+00 2.00855369e+01]\n",
      " [5.45981500e+01 1.48413159e+02 4.03428793e+02]\n",
      " [1.09663316e+03 2.98095799e+03 8.10308393e+03]]\n",
      "1\n",
      "[1 4 7]\n",
      "[1 2 3]\n",
      "0\n",
      "[0 0 0]\n",
      "45\n",
      "[4. 5. 6.]\n",
      "[2. 5. 8.]\n"
     ]
    }
   ],
   "source": [
    "exponentiate = np.exp(B)\n",
    "# Exponentiate each number elementwise (use the np.exp function).\n",
    "\n",
    "min = np.min(B)\n",
    "# Calculate the minimum value in the whole matrix.\n",
    "\n",
    "min_eachrow = np.min(B, axis=1)\n",
    "# Calculcate the minimum value in each row.\n",
    "\n",
    "min_eachcolumn = np.min(B, axis=0)\n",
    "# Calculcate the minimum value in each column.\n",
    "\n",
    "index_min = np.argmin(B)\n",
    "# Find the index value for the minimum value in the whole matrix (hint: use np.argmin).\n",
    "\n",
    "index_min_eachrow = np.argmin(B, axis=1)\n",
    "# Find the index value for the minimum value in each row (hint: use np.argmin).\n",
    "\n",
    "sum_all = np.sum(B)\n",
    "# Calculate the sum for all elements.\n",
    "\n",
    "mean_eachcolumn = np.mean(B, axis=0)\n",
    "# Calculate the mean for each column.\n",
    "\n",
    "median_eachcolumn = np.median(B, axis=1)\n",
    "# Calculate the median for each column.\n",
    "\n",
    "print(exponentiate)\n",
    "print(min)\n",
    "print(min_eachrow)\n",
    "print(min_eachcolumn)\n",
    "print(index_min)\n",
    "print(index_min_eachrow)\n",
    "print(sum_all)\n",
    "print(mean_eachcolumn)\n",
    "print(median_eachcolumn)"
   ]
  },
  {
   "cell_type": "markdown",
   "id": "541eb7ba",
   "metadata": {},
   "source": [
    "### What does it mean when you provide fewer indices than axes when slicing? See example below."
   ]
  },
  {
   "cell_type": "code",
   "execution_count": 101,
   "id": "9c8abf56",
   "metadata": {},
   "outputs": [
    {
     "name": "stdout",
     "output_type": "stream",
     "text": [
      "[[ 1  2  3  4  5]\n",
      " [ 6  7  8  9 10]\n",
      " [11 12 13 14 15]]\n"
     ]
    }
   ],
   "source": [
    "print(A)"
   ]
  },
  {
   "cell_type": "code",
   "execution_count": 113,
   "id": "69415f7b",
   "metadata": {},
   "outputs": [
    {
     "data": {
      "text/plain": [
       "array([ 6,  7,  8,  9, 10])"
      ]
     },
     "execution_count": 113,
     "metadata": {},
     "output_type": "execute_result"
    }
   ],
   "source": [
    "A[1]"
   ]
  },
  {
   "cell_type": "code",
   "execution_count": 119,
   "id": "64463e8e-60ab-4495-b2ba-a16773ab0858",
   "metadata": {},
   "outputs": [],
   "source": [
    "# Numpy assume that you want all the elements for the axes not specified. The example only specified the row axes and not the column axes and will therefor\n",
    "# give you the elements for all the columns in that row. "
   ]
  },
  {
   "cell_type": "markdown",
   "id": "6652d0c9",
   "metadata": {},
   "source": [
    "### Iterating over multidimensional arrays is done with respect to the first axis, so in the example below we iterate trough the rows. If you would like to iterate through the array *elementwise*, how would you do that?"
   ]
  },
  {
   "cell_type": "code",
   "execution_count": 121,
   "id": "9459864f",
   "metadata": {},
   "outputs": [
    {
     "data": {
      "text/plain": [
       "array([[ 1,  2,  3,  4,  5],\n",
       "       [ 6,  7,  8,  9, 10],\n",
       "       [11, 12, 13, 14, 15]])"
      ]
     },
     "execution_count": 121,
     "metadata": {},
     "output_type": "execute_result"
    }
   ],
   "source": [
    "A"
   ]
  },
  {
   "cell_type": "code",
   "execution_count": 123,
   "id": "a671bb5a",
   "metadata": {},
   "outputs": [
    {
     "name": "stdout",
     "output_type": "stream",
     "text": [
      "[1 2 3 4 5]\n",
      "[ 6  7  8  9 10]\n",
      "[11 12 13 14 15]\n"
     ]
    }
   ],
   "source": [
    "for i in A:\n",
    "    print(i)"
   ]
  },
  {
   "cell_type": "code",
   "execution_count": 139,
   "id": "f4e443a0",
   "metadata": {},
   "outputs": [
    {
     "name": "stdout",
     "output_type": "stream",
     "text": [
      "1\n",
      "2\n",
      "3\n",
      "4\n",
      "5\n",
      "6\n",
      "7\n",
      "8\n",
      "9\n",
      "10\n",
      "11\n",
      "12\n",
      "13\n",
      "14\n",
      "15\n"
     ]
    }
   ],
   "source": [
    "for i in A.flat:\n",
    "# I would use the iterator attribute called flat which will iterate over all the elements of the array.\n",
    "    print(i)"
   ]
  },
  {
   "cell_type": "markdown",
   "id": "608a2583",
   "metadata": {},
   "source": [
    "### Explain what the code below does. More specifically, b has three axes - what does this mean? "
   ]
  },
  {
   "cell_type": "code",
   "execution_count": 148,
   "id": "f8f9b26f",
   "metadata": {},
   "outputs": [
    {
     "name": "stdout",
     "output_type": "stream",
     "text": [
      "[ 0  1  2  3  4  5  6  7  8  9 10 11 12 13 14 15 16 17 18 19 20 21 22 23\n",
      " 24 25 26 27 28 29]\n",
      "\n",
      "[[[ 0  1  2  3  4]\n",
      "  [ 5  6  7  8  9]\n",
      "  [10 11 12 13 14]]\n",
      "\n",
      " [[15 16 17 18 19]\n",
      "  [20 21 22 23 24]\n",
      "  [25 26 27 28 29]]]\n"
     ]
    }
   ],
   "source": [
    "a = np.arange(30)\n",
    "b = a.reshape((2, 3, -1))\n",
    "print(a)\n",
    "print()\n",
    "\n",
    "print(b)"
   ]
  },
  {
   "cell_type": "code",
   "execution_count": null,
   "id": "863a45df",
   "metadata": {},
   "outputs": [],
   "source": [
    "# It creates an array with 30 elements. \n",
    "# It then reshapes the array into a new shape with 2 layers, 3 rows and 5 columns. In the example the column dimension is not specified, \n",
    "# the value \"-1\" means \"whatever is needed\", which means that the number of columns is decided automatically. \n",
    "\n",
    "# Having three axes means it has the dimensions of a cube with row, column and depth/layers. \n",
    "# Axis 0 = depth/layers\n",
    "# Axis 1 = rows\n",
    "# Axis 2 = columns"
   ]
  },
  {
   "cell_type": "markdown",
   "id": "421c9607-819a-401d-949a-97424436fe29",
   "metadata": {},
   "source": [
    "# For the exercises below, read the document *\"matematik_yh_antonio_vektorer_matriser_utdrag\"*\n",
    "# Solutions to the exercises and recorded videos can be found here: https://github.com/AntonioPrgomet/matematik_foer_yh\n",
    "\n",
    "# If you find the exercises below very hard, do not worry. Try your best, that will be enough. "
   ]
  },
  {
   "cell_type": "markdown",
   "id": "ab5933d5",
   "metadata": {},
   "source": [
    "### Broadcasting\n",
    "**Read the following link about broadcasting: https://numpy.org/doc/stable/user/basics.broadcasting.html#basics-broadcasting**"
   ]
  },
  {
   "cell_type": "markdown",
   "id": "039805ba",
   "metadata": {},
   "source": [
    "# Remark on Broadcasting when doing Linear Algebra calculations in Python. "
   ]
  },
  {
   "cell_type": "markdown",
   "id": "c4bcc147",
   "metadata": {},
   "source": [
    "### From the mathematical rules of matrix addition, the operation below (m1 + m2) does not make sense. The reason is that matrix addition requires two matrices of the same size. In Python however, it works due to broadcasting rules in NumPy. So you must be careful when doing Linear Algebra calculations in Python since they do not follow the \"mathematical rules\". This can however easily be handled by doing some simple programming, for example validating that two matrices have the same shape is easy if you for instance want to add two matrices. "
   ]
  },
  {
   "cell_type": "code",
   "execution_count": 150,
   "id": "1fd46778",
   "metadata": {},
   "outputs": [
    {
     "name": "stdout",
     "output_type": "stream",
     "text": [
      "[[2 3]\n",
      " [4 5]]\n"
     ]
    }
   ],
   "source": [
    "m1 = np.array([[1, 2], [3, 4]])\n",
    "m2 = np.array([1, 1])\n",
    "print(m1 + m2)"
   ]
  },
  {
   "cell_type": "markdown",
   "id": "047d6576",
   "metadata": {},
   "source": [
    "### The example below would also not be allowed if following the \"mathematical rules\" in Linear Algebra. But it works due to broadcasting in NumPy. "
   ]
  },
  {
   "cell_type": "code",
   "execution_count": 152,
   "id": "5e6ef2e4",
   "metadata": {},
   "outputs": [
    {
     "name": "stdout",
     "output_type": "stream",
     "text": [
      "[2 3 4]\n"
     ]
    }
   ],
   "source": [
    "v1 = np.array([1, 2, 3])\n",
    "print(v1 + 1)"
   ]
  },
  {
   "cell_type": "code",
   "execution_count": 164,
   "id": "e2cbae26",
   "metadata": {},
   "outputs": [
    {
     "name": "stdout",
     "output_type": "stream",
     "text": [
      "[[1 2]\n",
      " [3 4]]\n",
      "[2 2]\n"
     ]
    }
   ],
   "source": [
    "A = np.arange(1, 5).reshape(2,2)\n",
    "print(A)\n",
    "\n",
    "b = np.array([2, 2])\n",
    "print(b)"
   ]
  },
  {
   "cell_type": "markdown",
   "id": "722fd5cd",
   "metadata": {},
   "source": [
    "# Vector- and matrix algebra Exercises"
   ]
  },
  {
   "cell_type": "markdown",
   "id": "b63a3081-d976-4d9f-bfd0-a63917e79f7d",
   "metadata": {},
   "source": [
    "**Now you are going to create a function that can be reused every time you add or multiply matrices. The function is created so that we do the addition and multiplication according to the rules of vector- and matrix algebra.**\n",
    "\n",
    "**Create a function \"add_mult_matrices\" that takes two matrices as input arguments (validate that the input are of the type numpy.ndarray by using the isinstance function), a third argument that is either 'add' or 'multiply' that specifies if you want to add or multiply the matrices (validate that the third argument is either 'add' or 'multiply'). When doing matrix addition, validate that the matrices have the same size. When doing matrix multiplication, validate that the sizes conform (i.e. number of columns in the first matrix is equal to the number of rows in the second matrix).**"
   ]
  },
  {
   "cell_type": "code",
   "execution_count": null,
   "id": "134a1f8e-fc30-44d0-9477-905434dea47d",
   "metadata": {},
   "outputs": [],
   "source": []
  },
  {
   "cell_type": "code",
   "execution_count": 5,
   "id": "3506f977-ac0a-473f-85bc-eec9f35dc498",
   "metadata": {},
   "outputs": [
    {
     "name": "stdout",
     "output_type": "stream",
     "text": [
      "[[11]]\n",
      "2\n",
      "2\n",
      "(1, 2)\n",
      "(2, 1)\n"
     ]
    }
   ],
   "source": [
    "add_or_multiply = \"multiply\"\n",
    "\n",
    "import numpy as np\n",
    "\n",
    "A = np.array([4,3]).reshape(1,-1)\n",
    "B = np.array([2,1]).reshape(-1,1)\n",
    "# Create two matrices as input arguments\n",
    "\n",
    "def add_mult_matrices(add_or_multiply, A, B):\n",
    "    if isinstance(A, np.ndarray) and isinstance(B, np.ndarray):\n",
    "        if add_or_multiply == \"multiply\":\n",
    "            if A.shape == B.T.shape:          \n",
    "                # perform matrix multiplication\n",
    "                multiplication = A @ B\n",
    "                return multiplication\n",
    "            else: \n",
    "                return \"The sizes do not conform for multiplication\"\n",
    "        elif add_or_multiply == \"add\":\n",
    "            if A.size == B.size: \n",
    "                # perform element-wise addition\n",
    "                addition = A + B\n",
    "                return addition\n",
    "            else: \n",
    "                return \"The sizes do not conform for addition\"\n",
    "        else:\n",
    "            return \"Input must be numpy arrays\"\n",
    "\n",
    "result = add_mult_matrices(add_or_multiply, A, B)\n",
    "\n",
    "print(result)\n",
    "print(A.size)\n",
    "print(B.size)\n",
    "print(A.shape)\n",
    "print(B.shape)"
   ]
  },
  {
   "cell_type": "markdown",
   "id": "8dad82d0-2359-4dff-8f5b-a57d3e34103c",
   "metadata": {},
   "source": [
    "### Solve all the exercises in chapter 10.1 in the book \"Matematik för yrkeshögskolan\". "
   ]
  },
  {
   "cell_type": "code",
   "execution_count": 103,
   "id": "413463fd-0a16-4f02-9805-5e5b2ef3c9a2",
   "metadata": {},
   "outputs": [
    {
     "name": "stdout",
     "output_type": "stream",
     "text": [
      "10.1.1.(a) (2, 3)\n",
      "10.1.1.(b) [[10 15 20]\n",
      " [25 20  5]]\n",
      "10.1.1.(c) [[ 6  9 12]\n",
      " [15 12  3]]\n",
      "10.1.1.(d) [[16 24 32]\n",
      " [40 32  8]]\n",
      "10.1.1.(e) [[16 24 32]\n",
      " [40 32  8]]\n",
      "10.1.1.(f) [[ 6  9 12]\n",
      " [15 12  3]]\n",
      "10.1.1.(g) (3, 2)\n",
      "10.1.1.(h) Inte definierat\n",
      "10.1.1.(i) 8.426149773176359\n"
     ]
    }
   ],
   "source": [
    "print(\"10.1.1.(a)\", A.shape) # Vilken dimension har vektorn x?\n",
    "print(\"10.1.1.(b)\", A*5) # Berakna 5x.\n",
    "print(\"10.1.1.(c)\", A*3) # Berakna 3x.\n",
    "print(\"10.1.1.(d)\", A*5 + A*3) # Berakna 5x+3x\n",
    "print(\"10.1.1.(e)\", A*8) # Berakna 8x.\n",
    "print(\"10.1.1.(f)\", A*4 - A) # Berakna 4x-x\n",
    "print(\"10.1.1.(g)\", A.T.shape) # Berakna xT, vilken blir den nya dimensionen efter att transponeringen utförts?\n",
    "print(\"10.1.1.(h)\", \"Definierat\" if A.shape == A.T.shape else \"Ej definierat\") # Är x - xT definierat?\n",
    "print(\"10.1.1.(i)\", np.linalg.norm(A)) # Beräkna ||x||"
   ]
  },
  {
   "cell_type": "code",
   "execution_count": 105,
   "id": "c6c24c91-263c-4b01-ab6f-8e041125c8ce",
   "metadata": {},
   "outputs": [
    {
     "name": "stdout",
     "output_type": "stream",
     "text": [
      "10.1.2.(a) (4, 1)\n",
      "10.1.2.(b) [[ 6]\n",
      " [14]\n",
      " [ 0]\n",
      " [22]]\n",
      "10.1.2.(c) [[21]\n",
      " [49]\n",
      " [ 0]\n",
      " [77]]\n",
      "10.1.2.(d) [[ 6]\n",
      " [14]\n",
      " [ 0]\n",
      " [22]]\n",
      "10.1.2.(e) (1, 4)\n",
      "10.1.2.(f) 13.379088160259652\n"
     ]
    }
   ],
   "source": [
    "v = np.array([3,7,0,11]).reshape(-1,1)\n",
    "print(\"10.1.2.(a)\", v.shape)\n",
    "print(\"10.1.2.(b)\", v*2)\n",
    "print(\"10.1.2.(c)\", v*5 + v*2)\n",
    "print(\"10.1.2.(d)\", v*4 - v*2)\n",
    "print(\"10.1.2.(e)\", v.T.shape)\n",
    "print(\"10.1.2.(f)\", np.linalg.norm(v))"
   ]
  },
  {
   "cell_type": "code",
   "execution_count": 107,
   "id": "aa445748-2ac8-4838-8fa9-c14d50e95e19",
   "metadata": {},
   "outputs": [
    {
     "name": "stdout",
     "output_type": "stream",
     "text": [
      "10.1.3.(a) 7.14142842854285\n",
      "10.1.3.(b) 4.47213595499958\n"
     ]
    }
   ],
   "source": [
    "v1 = np.array([4,3,1,5]).reshape(-1,1)\n",
    "v2 = np.array([2,3,1,1]).reshape(-1,1)\n",
    "print(\"10.1.3.(a)\", np.linalg.norm(v1)) # Berakna ∥v1∥.\n",
    "print(\"10.1.3.(b)\", np.linalg.norm(v1-v2)) # Berakna ∥v1 − v2∥."
   ]
  },
  {
   "cell_type": "markdown",
   "id": "75c98984-1f88-4df1-b850-d2466de444a5",
   "metadata": {},
   "source": [
    "### Solve all the exercises, except 10.2.4, in chapter 10.2 in the book \"Matematik för yrkeshögskolan\". "
   ]
  },
  {
   "cell_type": "code",
   "execution_count": 109,
   "id": "65371610-16e1-48b2-b7fb-65e49002608a",
   "metadata": {},
   "outputs": [
    {
     "name": "stdout",
     "output_type": "stream",
     "text": [
      "10.2.1.(a) [[ 4  2 -2]\n",
      " [ 2 -2  2]]\n",
      "10.2.1.(b) [[ 0 -4  3]\n",
      " [ 0 -2 -4]]\n",
      "10.2.1.(c) Ej definierat\n",
      "10.2.1.(d) [[3 2]\n",
      " [2 3]]\n",
      "10.2.1.(e) [[ 9 12]\n",
      " [12  9]]\n",
      "10.2.1.(f) [[-4 -4]\n",
      " [-4 -4]]\n",
      "10.2.1.(g) Ej definierat\n",
      "10.2.1.(h) Ej definierat\n",
      "10.2.1.(i) [[11 10]\n",
      " [10 11]]\n",
      "10.2.1.(j) [[  8 -10  -3]\n",
      " [ 10  -8   0]]\n",
      "10.2.1.(k) [[1 2]\n",
      " [2 1]]\n",
      "10.2.1.(l) [[5 2]\n",
      " [7 4]]\n"
     ]
    }
   ],
   "source": [
    "A = np.array([[2, 1, -1], [1, -1, 1]])\n",
    "B = np.array([[4, -2, 1], [2, -4, -2]])\n",
    "C = np.array([[1, 2], [2, 1]])\n",
    "D = np.array([[3, 4], [4, 3]])\n",
    "E = np.array([[1],[2]])\n",
    "I = np.array([[1,0], [0,1]])\n",
    "print(\"10.2.1.(a)\", A*2)\n",
    "print(\"10.2.1.(b)\", B - A*2 if B.shape == A.shape else \"Ej definierat\") # Check if shape of array B = shape of array A\n",
    "print(\"10.2.1.(c)\", C*3 - E*2 if C.shape == E.shape else \"Ej definierat\") # Check if shape of array C = shape of array E\n",
    "print(\"10.2.1.(d)\", D*2 - C*3 if D.shape == C.shape else \"Ej definierat\") # Check if shape of array D = shape of array C\n",
    "print(\"10.2.1.(e)\", D.T + D*2 if D.T.shape == C.shape else \"Ej definierat\") # Check if shape of array D transposed = shape of array C\n",
    "print(\"10.2.1.(f)\", C.T*2 - D.T*2 if C.T.shape == D.T.shape else \"Ej definierat\") # Check if shape of array C transposed = shape of array D transposed\n",
    "print(\"10.2.1.(g)\", A.T - B if A.T.shape == B.shape else \"Ej definierat\") # Check if shape of array A transposed = shape of array B\n",
    "print(\"10.2.1.(h)\", A @ C if A.shape[1] == C.shape[0] else \"Ej definierat\") # Checks if number of columns in array A = numbers of rows in array C\n",
    "print(\"10.2.1.(i)\", C @ D if C.shape[1] == D.shape[0] else \"Ej definierat\") # Checks if number of columns in array C = numbers of rows in array D\n",
    "print(\"10.2.1.(j)\", C @ B if C.shape[1] == B.shape[0] else \"Ej definierat\") # Checks if number of columns in array A = numbers of rows in array B\n",
    "print(\"10.2.1.(k)\", C @ I if C.shape[1] == I.shape[0] else \"Ej definierat\") # Checks if number of columns in array A = numbers of rows in array I\n",
    "print(\"10.2.1.(l)\", A @ B.T if A.shape[1] == B.T.shape[0] else \"Ej definierat\") # Checks if number of columns in array A = numbers of rows in array B transposed"
   ]
  },
  {
   "cell_type": "code",
   "execution_count": 101,
   "id": "3d905304-4d29-4835-bbad-8bcec6a95d6a",
   "metadata": {},
   "outputs": [
    {
     "name": "stdout",
     "output_type": "stream",
     "text": [
      "10.2.2 [[29 26]\n",
      " [26 42]]\n"
     ]
    }
   ],
   "source": [
    "A = np.array([[2, 3, 4], [5, 4, 1]])\n",
    "print(\"10.2.2.\", A @ A.T if A.shape[1] == A.T.shape[0] else \"Ej definierat\") # Checks if number of columns in array A = numbers of rows in array A transposed"
   ]
  },
  {
   "cell_type": "code",
   "execution_count": 181,
   "id": "4ac219c4-aa9f-4e73-a5d3-5e62c575890b",
   "metadata": {},
   "outputs": [
    {
     "name": "stdout",
     "output_type": "stream",
     "text": [
      "10.2.3 True\n",
      "10.2.3 False\n",
      "10.2.3 [[ 4  7]\n",
      " [ 8 14]]\n",
      "10.2.3 [[ 4  7]\n",
      " [ 8 14]]\n",
      "10.2.3 [[8 8]\n",
      " [4 9]]\n",
      "10.34.(a) True\n",
      "10.34.(b) True\n",
      "10.34.(c) True\n",
      "10.34.(d) True\n"
     ]
    }
   ],
   "source": [
    "A = np.array([[1, 2], [2, 4]])\n",
    "B = np.array([[2, 1], [1, 3]])\n",
    "C = np.array([[4, 3], [0, 2]])\n",
    "\n",
    "print(\"10.2.3 True\" if np.array_equal(A @ B, A @ C) else \"10.2.3 False\")\n",
    "print(\"10.2.3 True\" if np.array_equal(B @ A, C @ A) else \"10.2.3 False\")\n",
    "print(\"10.2.3\", A @ B if A.shape[1] == B.shape[0] else \"Ej definierat\") # Checks if number of columns in array A = numbers of rows in array B\n",
    "print(\"10.2.3\", A @ C if A.shape[1] == C.shape[0] else \"Ej definierat\") # Checks if number of columns in array A = numbers of rows in array C\n",
    "print(\"10.2.3\", B @ C if B.shape[1] == C.shape[0] else \"Ej definierat\") # Checks if number of columns in array B = numbers of rows in array C\n",
    "\n",
    "\n",
    "# Kontrollera räkneregler för matrismultiplikation (Sats 10.34)\n",
    "print(\"10.34.(a) True\" if np.array_equal((A @ B) @ C, A @ (B @ C)) else \"10.34.(a) False\")\n",
    "print(\"10.34.(b) True\" if np.array_equal(A @ (B + C), ((A @ B) + (A @ C))) else \"10.34.(b) False\")\n",
    "print(\"10.34.(c) True\" if np.array_equal((A + B) @ C, (A @ C) + (B @ C)) else \"10.34.(c) False\")\n",
    "print(\"10.34.(d) True\" if np.array_equal((2*A @ B), A @ (2*B)) else \"10.34.(d) False\")"
   ]
  },
  {
   "cell_type": "markdown",
   "id": "6a4a524f",
   "metadata": {},
   "source": [
    "### Copies and Views\n",
    "Read the following link: https://numpy.org/doc/stable/user/basics.copies.html"
   ]
  },
  {
   "cell_type": "code",
   "execution_count": null,
   "id": "13cbab9a-6950-4fba-9563-6f7e66fad20f",
   "metadata": {},
   "outputs": [],
   "source": []
  },
  {
   "cell_type": "markdown",
   "id": "6cbbeaf7",
   "metadata": {},
   "source": [
    "**Basic indexing creates a view, How can you check if v1 and v2 is a view or copy? If you change the last element in v2 to 123, will the last element in v1 be changed? Why?**"
   ]
  },
  {
   "cell_type": "code",
   "execution_count": 183,
   "id": "5b9ef4df",
   "metadata": {},
   "outputs": [
    {
     "name": "stdout",
     "output_type": "stream",
     "text": [
      "[0 1 2 3]\n",
      "[2 3]\n"
     ]
    }
   ],
   "source": [
    "v1 = np.arange(4)\n",
    "v2 = v1[-2:]\n",
    "print(v1)\n",
    "print(v2)"
   ]
  },
  {
   "cell_type": "code",
   "execution_count": 185,
   "id": "d2440489",
   "metadata": {},
   "outputs": [
    {
     "name": "stdout",
     "output_type": "stream",
     "text": [
      "None\n",
      "[0 1 2 3]\n"
     ]
    }
   ],
   "source": [
    "# The base attribute of a view returns the original array while it returns None for a copy.\n",
    "print(v1.base)\n",
    "print(v2.base)"
   ]
  },
  {
   "cell_type": "code",
   "execution_count": 187,
   "id": "c8752807",
   "metadata": {},
   "outputs": [
    {
     "name": "stdout",
     "output_type": "stream",
     "text": [
      "[  0   1   2 123]\n",
      "[  2 123]\n"
     ]
    }
   ],
   "source": [
    "# The last element in v1 will be changed aswell since v2 is a view, meaning they share the same data buffer.\n",
    "v2[-1] = 123\n",
    "print(v1)\n",
    "print(v2)"
   ]
  },
  {
   "cell_type": "code",
   "execution_count": 189,
   "id": "3dd68221",
   "metadata": {},
   "outputs": [],
   "source": [
    "# you can use the base attribute to check if v1 and v2 is a view or a copy. The attribute returns the original array for a view and None for a copy. \n",
    "# v1 is a copy and v2 a view\n",
    "# any changes made to a view is also reflected in the copy because they share the same memory, v2 is a view of the v1 copy."
   ]
  }
 ],
 "metadata": {
  "kernelspec": {
   "display_name": "Python 3 (ipykernel)",
   "language": "python",
   "name": "python3"
  },
  "language_info": {
   "codemirror_mode": {
    "name": "ipython",
    "version": 3
   },
   "file_extension": ".py",
   "mimetype": "text/x-python",
   "name": "python",
   "nbconvert_exporter": "python",
   "pygments_lexer": "ipython3",
   "version": "3.12.7"
  }
 },
 "nbformat": 4,
 "nbformat_minor": 5
}
